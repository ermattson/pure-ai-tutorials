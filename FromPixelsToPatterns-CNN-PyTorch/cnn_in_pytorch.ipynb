{
 "cells": [
  {
   "cell_type": "markdown",
   "metadata": {},
   "source": [
    "<p style=\"font-size: 18px;\">\n",
    "  This is the accompanying code for the post titled \"From Pixels to Patterns: Exploring CNN Architectures and Image Recognition using PyTorch\"<br>\n",
    "  You can find it <a href=\"https://pureai.substack.com/p/from-pixels-to-patterns\">here</a>.<br>\n",
    "  Published: November 25, 2023<br>\n",
    "  <a href=\"https://pureai.substack.com\">https://pureai.substack.com</a>\n",
    "</p>"
   ]
  },
  {
   "cell_type": "markdown",
   "metadata": {},
   "source": [
    "Welcome to this Jupyter notebook! If you're new to Python or don't have it installed on your system, don't worry; you can still follow along and explore the code.\n",
    "\n",
    "Here's a quick guide to getting started:\n",
    "\n",
    "- Using an Online Platform: You can run this notebook in a web browser using platforms like Google Colab or Binder. These services offer free access to Jupyter notebooks and don't require any installation.\n",
    "- Installing Python Locally: If you'd prefer to run this notebook on your own machine, you'll need to install Python. A popular distribution for scientific computing is Anaconda, which includes Python, Jupyter, and other useful tools.\n",
    "  - Download Anaconda from [here](https://www.anaconda.com/download).\n",
    "  - Follow the installation instructions for your operating system.\n",
    "  - Launch Jupyter Notebook from Anaconda Navigator or by typing jupyter notebook in your command line or terminal.\n",
    "- Opening the Notebook: Once you have Jupyter running, navigate to the location of this notebook file (.ipynb) and click on it to open.\n",
    "- Running the Code: You can run each cell in the notebook by selecting it and pressing Shift + Enter. Feel free to modify the code and experiment with it.\n",
    "- Need More Help?: If you're new to Python or Jupyter notebooks, you might find these resources helpful:\n",
    "  - [Python.org's Beginner's Guide](https://docs.python.org/3/tutorial/index.html)\n",
    "  - [Jupyter Notebook Basics](https://jupyter-notebook.readthedocs.io/en/stable/examples/Notebook/Notebook%20Basics.html)\n",
    "\n",
    "Happy coding, and enjoy exploring the fascinating world of CNNs with PyTorch!"
   ]
  },
  {
   "attachments": {},
   "cell_type": "markdown",
   "metadata": {},
   "source": [
    "### Building a Basic CNN Architecture with PyTorch\n",
    "\n",
    "In this section, we'll walk through how to build a basic Convolutional Neural Network (CNN) using PyTorch. We'll create a simple model suitable for classifying images. Before diving into the code, ensure you have PyTorch installed in your environment."
   ]
  },
  {
   "attachments": {},
   "cell_type": "markdown",
   "metadata": {},
   "source": [
    "#### Setting Up\n",
    "\n",
    "First, import the necessary libraries:"
   ]
  },
  {
   "cell_type": "code",
   "execution_count": null,
   "metadata": {},
   "outputs": [],
   "source": [
    "import sys\n",
    "import torch\n",
    "import torch.nn as nn\n",
    "import torch.optim as optim\n",
    "import torchvision\n",
    "from torchvision import datasets, transforms\n",
    "from torch.utils.data import DataLoader\n",
    "from sklearn.metrics import accuracy_score\n",
    "import matplotlib.pyplot as plt\n",
    "import numpy as np"
   ]
  },
  {
   "attachments": {},
   "cell_type": "markdown",
   "metadata": {},
   "source": [
    "Next, let's perform a check to utilize the GPU if it's available:"
   ]
  },
  {
   "cell_type": "code",
   "execution_count": null,
   "metadata": {},
   "outputs": [],
   "source": [
    "# Check if GPU is available and set the device accordingly \n",
    "device = torch.device('cuda:0' if torch.cuda.is_available() else 'cpu')\n",
    "n_gpu = torch.cuda.device_count()\n",
    "print(f'Using device: {torch.cuda.get_device_name(0)}')"
   ]
  },
  {
   "attachments": {},
   "cell_type": "markdown",
   "metadata": {},
   "source": [
    "#### Preparing the Dataset\n",
    "\n",
    "We'll use a standard dataset like MNIST, which consists of handwritten digits. PyTorch makes it easy to load and preprocess datasets:"
   ]
  },
  {
   "cell_type": "code",
   "execution_count": null,
   "metadata": {},
   "outputs": [],
   "source": [
    "# Transformations applied on each image\n",
    "transform = transforms.Compose([\n",
    "    transforms.ToTensor(),  # Convert images to PyTorch tensors\n",
    "    transforms.Normalize((0.5,), (0.5,))  # Normalizing the images\n",
    "])\n",
    "\n",
    "# Loading the training dataset\n",
    "train_dataset = datasets.MNIST(root='./data', train=True, download=True, transform=transform)\n",
    "train_loader = DataLoader(train_dataset, batch_size=64, shuffle=True)\n",
    "\n",
    "# Loading the test dataset\n",
    "test_dataset = datasets.MNIST(root='./data', train=False, download=True, transform=transform)\n",
    "test_loader = DataLoader(test_dataset, batch_size=64, shuffle=False)"
   ]
  },
  {
   "attachments": {},
   "cell_type": "markdown",
   "metadata": {},
   "source": [
    "Let's view a few of the training images to understand what we're working with: "
   ]
  },
  {
   "cell_type": "code",
   "execution_count": null,
   "metadata": {},
   "outputs": [],
   "source": [
    "# Create a function to plot images in a grid\n",
    "def show_images_grid(images, labels, nrows=3, ncols=3):\n",
    "    fig, axes = plt.subplots(nrows, ncols, figsize=(5, 5))\n",
    "    axes = axes.flatten()\n",
    "    for img, label, ax in zip(images, labels, axes):\n",
    "        if img.shape[0] == 1:\n",
    "            img = img.squeeze()\n",
    "        else:\n",
    "            img = torchvision.transforms.functional.to_pil_image(img)\n",
    "        \n",
    "        ax.imshow(img, cmap='gray')\n",
    "        ax.axis('off')\n",
    "        ax.set_title(f'Label: {label.item()}')\n",
    "    plt.tight_layout()\n",
    "    plt.show()\n",
    "\n",
    "dataiter = iter(train_loader)\n",
    "images, labels = next(dataiter)\n",
    "\n",
    "images = images[:9]\n",
    "labels = labels[:9]\n",
    "\n",
    "show_images_grid(images, labels, nrows=3, ncols=3)"
   ]
  },
  {
   "attachments": {},
   "cell_type": "markdown",
   "metadata": {},
   "source": [
    "#### Defining the CNN Architecture\n",
    "\n",
    "Now, let's define our CNN architecture. We'll create a simple network with two convolutional layers followed by two fully connected layers:"
   ]
  },
  {
   "cell_type": "code",
   "execution_count": null,
   "metadata": {},
   "outputs": [],
   "source": [
    "class SimpleCNN(nn.Module):\n",
    "    def __init__(self):\n",
    "        super(SimpleCNN, self).__init__()\n",
    "        self.conv1 = nn.Conv2d(1, 32, kernel_size=3, stride=1, padding=1)\n",
    "        self.conv2 = nn.Conv2d(32, 64, kernel_size=3, stride=1, padding=1)\n",
    "        self.fc1 = nn.Linear(7*7*64, 128)\n",
    "        self.fc2 = nn.Linear(128, 10)\n",
    "\n",
    "        self.relu = nn.ReLU()\n",
    "        self.pool = nn.MaxPool2d(2, 2)\n",
    "        self.dropout = nn.Dropout(0.5)\n",
    "\n",
    "    def forward(self, x):\n",
    "        x = self.pool(self.relu(self.conv1(x)))\n",
    "        x = self.pool(self.relu(self.conv2(x)))\n",
    "        x = x.view(-1, 7*7*64)\n",
    "        x = self.relu(self.fc1(x))\n",
    "        x = self.dropout(x)\n",
    "        x = self.fc2(x)\n",
    "        return x\n",
    "\n",
    "model = SimpleCNN().to(device)\n",
    "print(model)"
   ]
  },
  {
   "attachments": {},
   "cell_type": "markdown",
   "metadata": {},
   "source": [
    "#### Model Training\n",
    "\n",
    "Next, we'll define our loss function and optimizer, and train the model over 5 epochs:"
   ]
  },
  {
   "cell_type": "code",
   "execution_count": null,
   "metadata": {},
   "outputs": [],
   "source": [
    "%%time\n",
    "\n",
    "# Define the network parameters\n",
    "criterion = nn.CrossEntropyLoss()\n",
    "optimizer = optim.Adam(model.parameters(), lr=0.001)\n",
    "\n",
    "# Training loop\n",
    "for epoch in range(5):  # 5 epochs\n",
    "    for i, (images, labels) in enumerate(train_loader):\n",
    "        images, labels = images.to(device), labels.to(device)  # Move data to the device\n",
    "\n",
    "        # Forward pass\n",
    "        outputs = model(images)\n",
    "        loss = criterion(outputs, labels)\n",
    "        \n",
    "        # Backward pass and optimization\n",
    "        optimizer.zero_grad()\n",
    "        loss.backward()\n",
    "        optimizer.step()\n",
    "        \n",
    "        with torch.no_grad():\n",
    "            # Calculate accuracy on the training set\n",
    "            acc = accuracy_score(labels.cpu().tolist(), np.argmax(outputs.cpu(), axis=1).tolist())\n",
    "        sys.stderr.write(f\"\\rEpoch {epoch+1:02d}/{5:02d}, Batch {i+1:02d} | Loss: {loss.item():<6.2f} | Tr Acc: {acc*100:3.2f}%\")\n",
    "        sys.stderr.flush()"
   ]
  },
  {
   "attachments": {},
   "cell_type": "markdown",
   "metadata": {},
   "source": [
    "#### Test Model Performance"
   ]
  },
  {
   "cell_type": "code",
   "execution_count": null,
   "metadata": {},
   "outputs": [],
   "source": [
    "# Ensuring the model is in evaluation mode\n",
    "model.eval()\n",
    "\n",
    "y_test, y_pred = [], []\n",
    "for images, labels in test_loader:\n",
    "    images, labels = images.to(device), labels.to(device)\n",
    "    y_test.extend(labels.cpu().numpy())\n",
    "\n",
    "    with torch.no_grad():\n",
    "        outputs = model(images)\n",
    "        _, predicted = torch.max(outputs.data, 1)\n",
    "        y_pred.extend(predicted.cpu().numpy())\n",
    "\n",
    "# Calculate accuracy\n",
    "accuracy = accuracy_score(y_test, y_pred)\n",
    "print(f'Accuracy of the model on the test images: {accuracy * 100:.2f}%')"
   ]
  },
  {
   "attachments": {},
   "cell_type": "markdown",
   "metadata": {},
   "source": [
    "#### View Predicted Images"
   ]
  },
  {
   "cell_type": "code",
   "execution_count": null,
   "metadata": {},
   "outputs": [],
   "source": [
    "# View a subset of the predicted images\n",
    "fig = plt.figure(figsize=(10, 10))\n",
    "columns = 4\n",
    "rows = 5\n",
    "for i in range(1, columns*rows + 1):\n",
    "    img_xy = np.random.randint(len(test_dataset))\n",
    "    img = test_dataset[img_xy][0][0,:,:]\n",
    "    fig.add_subplot(rows, columns, i)\n",
    "    plt.title(f'Predicted: {y_pred[img_xy]}, Label: {y_test[img_xy]}')\n",
    "    plt.axis('off')\n",
    "    plt.imshow(img, cmap='gray')\n",
    "plt.show()"
   ]
  }
 ],
 "metadata": {
  "kernelspec": {
   "display_name": "Python 3",
   "language": "python",
   "name": "python3"
  },
  "language_info": {
   "codemirror_mode": {
    "name": "ipython",
    "version": 3
   },
   "file_extension": ".py",
   "mimetype": "text/x-python",
   "name": "python",
   "nbconvert_exporter": "python",
   "pygments_lexer": "ipython3",
   "version": "3.10.10"
  },
  "orig_nbformat": 4
 },
 "nbformat": 4,
 "nbformat_minor": 2
}
