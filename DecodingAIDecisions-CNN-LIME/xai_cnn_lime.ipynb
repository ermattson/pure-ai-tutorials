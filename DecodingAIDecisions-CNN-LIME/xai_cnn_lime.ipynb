{
 "cells": [
  {
   "attachments": {},
   "cell_type": "markdown",
   "metadata": {},
   "source": [
    "<p style=\"font-size: 18px;\">\n",
    "  This is the accompanying code for the post titled \"Decoding AI Decisions: Interpreting MNIST CNN Models Using LIME\"<br>\n",
    "  You can find it <a href=\"https://pureai.substack.com/p/decoding-ai-decisions-using-lime\">here</a>.<br>\n",
    "  Published: December 2, 2023<br>\n",
    "  <a href=\"https://pureai.substack.com\">https://pureai.substack.com</a>\n",
    "</p>"
   ]
  },
  {
   "attachments": {},
   "cell_type": "markdown",
   "metadata": {},
   "source": [
    "Welcome to this Jupyter notebook! If you're new to Python or don't have it installed on your system, don't worry; you can still follow along and explore the code.\n",
    "\n",
    "Here's a quick guide to getting started:\n",
    "\n",
    "- Using an Online Platform: You can run this notebook in a web browser using platforms like Google Colab or Binder. These services offer free access to Jupyter notebooks and don't require any installation.\n",
    "- Installing Python Locally: If you'd prefer to run this notebook on your own machine, you'll need to install Python. A popular distribution for scientific computing is Anaconda, which includes Python, Jupyter, and other useful tools.\n",
    "  - Download Anaconda from [here](https://www.anaconda.com/download).\n",
    "  - Follow the installation instructions for your operating system.\n",
    "  - Launch Jupyter Notebook from Anaconda Navigator or by typing jupyter notebook in your command line or terminal.\n",
    "- Opening the Notebook: Once you have Jupyter running, navigate to the location of this notebook file (.ipynb) and click on it to open.\n",
    "- Running the Code: You can run each cell in the notebook by selecting it and pressing Shift + Enter. Feel free to modify the code and experiment with it.\n",
    "- Need More Help?: If you're new to Python or Jupyter notebooks, you might find these resources helpful:\n",
    "  - [Python.org's Beginner's Guide](https://docs.python.org/3/tutorial/index.html)\n",
    "  - [Jupyter Notebook Basics](https://jupyter-notebook.readthedocs.io/en/stable/examples/Notebook/Notebook%20Basics.html)\n",
    "\n",
    "Happy coding, and enjoy exploring the fascinating world of LIME with CNNs with PyTorch!"
   ]
  },
  {
   "attachments": {},
   "cell_type": "markdown",
   "metadata": {},
   "source": [
    "We'll start by importing the necessary libraries."
   ]
  },
  {
   "cell_type": "code",
   "execution_count": 1,
   "metadata": {},
   "outputs": [
    {
     "name": "stdout",
     "output_type": "stream",
     "text": [
      "PyTorch version= 1.13.1+cu117\n",
      "torchaudio version= 0.13.1+cu117\n",
      "torchvision version= 0.14.1+cu117\n",
      "CUDA available= True\n",
      "CUDA Version\n"
     ]
    },
    {
     "name": "stderr",
     "output_type": "stream",
     "text": [
      "c:\\Users\\Administrator\\AppData\\Local\\Programs\\Python\\Python310\\lib\\site-packages\\torchaudio\\backend\\utils.py:62: UserWarning: No audio backend is available.\n",
      "  warnings.warn(\"No audio backend is available.\")\n"
     ]
    },
    {
     "name": "stdout",
     "output_type": "stream",
     "text": [
      "nvcc: NVIDIA (R) Cuda compiler driver\n",
      "Copyright (c) 2005-2022 NVIDIA Corporation\n",
      "Built on Tue_May__3_19:00:59_Pacific_Daylight_Time_2022\n",
      "Cuda compilation tools, release 11.7, V11.7.64\n",
      "Build cuda_11.7.r11.7/compiler.31294372_0\n",
      "\n",
      "CUDNN Version: 8500\n",
      "Number of CUDA Devices: 1\n",
      "Active CUDA Device: 0\n",
      "Available devices: 1, Name: NVIDIA GeForce RTX 4090\n",
      "Current CUDA device: 0\n"
     ]
    }
   ],
   "source": [
    "%matplotlib inline\n",
    "import matplotlib.pyplot as plt\n",
    "import numpy as np\n",
    "import os\n",
    "\n",
    "from sklearn.model_selection import train_test_split\n",
    "from sklearn.metrics import accuracy_score\n",
    "\n",
    "from skimage.segmentation import mark_boundaries\n",
    "\n",
    "import torch\n",
    "import torchaudio\n",
    "import torchaudio.transforms as atransforms\n",
    "import torchvision\n",
    "import torchvision.datasets as dset\n",
    "import torchvision.transforms as vtransforms\n",
    "import torch.nn as nn\n",
    "import torch.nn.functional as F\n",
    "from torch.utils.data import DataLoader\n",
    "\n",
    "from lime import lime_image\n",
    "from lime.wrappers.scikit_image import SegmentationAlgorithm\n",
    "import matplotlib.pyplot as plt\n",
    "import numpy as np\n",
    "import torch\n",
    "from torchvision import transforms\n",
    "\n",
    "# Set the GPU if available otherwise use CPU\n",
    "device = torch.device(\"cuda\" if torch.cuda.is_available() else \"cpu\")\n",
    "\n",
    "print(f'PyTorch version= {torch.__version__}')\n",
    "print(f'torchaudio version= {torchaudio.__version__}')\n",
    "print(f'torchvision version= {torchvision.__version__}')\n",
    "print(f'CUDA available= {torch.cuda.is_available()}')\n",
    "\n",
    "if torch.cuda.is_available():\n",
    "    # CUDA Installation\n",
    "    print('CUDA Version')\n",
    "    !nvcc --version\n",
    "    print()\n",
    "\n",
    "    # CUDNN Installation\n",
    "    print(f'CUDNN Version: {torch.backends.cudnn.version()}')\n",
    "    print(f'Number of CUDA Devices: {torch.cuda.device_count()}')\n",
    "    print(f'Active CUDA Device: {torch.cuda.current_device()}')\n",
    "    print(f'Available devices: {torch.cuda.device_count()}, Name: {torch.cuda.get_device_name(0)}')\n",
    "    print(f'Current CUDA device: {torch.cuda.current_device()}')"
   ]
  },
  {
   "attachments": {},
   "cell_type": "markdown",
   "metadata": {},
   "source": [
    "We now specify our dataloaders, which we will use to download the MNIST dataset."
   ]
  },
  {
   "cell_type": "code",
   "execution_count": 2,
   "metadata": {},
   "outputs": [],
   "source": [
    "# Get the training and testing datasets from a path with resize and normalization\n",
    "def get_dataloader(_img_size, _bs, _ds, _path):\n",
    "    train_ds = _ds(\n",
    "        root=_path, download=True, train=True,\n",
    "        transform=vtransforms.Compose([\n",
    "            vtransforms.Resize(_img_size),\n",
    "            vtransforms.ToTensor(),\n",
    "            vtransforms.Normalize((0.5,), (0.5,))\n",
    "        ]))\n",
    "\n",
    "    # Use pin_memory=True to fix GPU memory\n",
    "    train_dl = torch.utils.data.DataLoader(train_ds, batch_size=_bs, shuffle=True,\n",
    "                                           # pin_memory=True,\n",
    "                                           num_workers=4)\n",
    "\n",
    "    test_ds = _ds(\n",
    "        root=_path, download=True, train=False,\n",
    "        transform=vtransforms.Compose([\n",
    "            vtransforms.Resize(_img_size),\n",
    "            vtransforms.ToTensor(),\n",
    "            vtransforms.Normalize((0.5,), (0.5,))\n",
    "        ]))\n",
    "\n",
    "    test_dl = torch.utils.data.DataLoader(test_ds, batch_size=_bs, shuffle=True,\n",
    "                                          # pin_memory=True,\n",
    "                                          num_workers=4)\n",
    "\n",
    "    return train_dl, test_dl\n",
    "\n",
    "def get_dl_mnist(_img_size, _bs):\n",
    "    return get_dataloader(_img_size, _bs, dset.MNIST, './MNIST')"
   ]
  },
  {
   "attachments": {},
   "cell_type": "markdown",
   "metadata": {},
   "source": [
    "Let's define our PyTorch CNN model."
   ]
  },
  {
   "cell_type": "code",
   "execution_count": 3,
   "metadata": {},
   "outputs": [],
   "source": [
    "IMG_SIZE = 28\n",
    "IMG_CHANNEL= 1  # color channel\n",
    "MLP_HIDDEN= 16  # Hidden layer size\n",
    "LAST_LINEAR_SIZE = 1024\n",
    "N_CLASSES = 10  # output layer size\n",
    "BATCH_SIZE = 5000\n",
    "\n",
    "class ImageClassifierCNN(torch.nn.Module):\n",
    "    def __init__(\n",
    "            self, \n",
    "            epochs=10, \n",
    "            eta=0.001, \n",
    "            batch_size=1000, \n",
    "            seed=0\n",
    "        ) -> None:\n",
    "        super(ImageClassifierCNN, self).__init__()\n",
    "        self.random = np.random.RandomState(seed)  # shuffle mini batches\n",
    "        self.epochs = epochs  # number of iterations\n",
    "        self.eta = eta  # learning rate\n",
    "        self.batch_size = batch_size \n",
    "        self.loss_func = torch.nn.CrossEntropyLoss()\n",
    "        self.model = None\n",
    "\n",
    "    def init_layers(self, _K):\n",
    "        import torch.nn as nn\n",
    "        self.model = nn.Sequential(\n",
    "            nn.Conv2d(IMG_CHANNEL, MLP_HIDDEN, 5),\n",
    "            nn.ReLU(inplace=True),\n",
    "            nn.MaxPool2d(2),\n",
    "            nn.BatchNorm2d(MLP_HIDDEN),\n",
    "            nn.Conv2d(MLP_HIDDEN, MLP_HIDDEN*2, 5),\n",
    "            nn.ReLU(inplace=True),\n",
    "            nn.MaxPool2d(2),\n",
    "            nn.Flatten(start_dim=1),\n",
    "            nn.Linear(MLP_HIDDEN*2 * 4*4, LAST_LINEAR_SIZE),\n",
    "            nn.BatchNorm1d(LAST_LINEAR_SIZE),\n",
    "            nn.Linear(LAST_LINEAR_SIZE, _K),\n",
    "        ).to(device)\n",
    "\n",
    "    def predict(self, input):\n",
    "        if input.shape[-1] == 3:\n",
    "            input = np.mean(input, axis=-1, keepdims=True)\n",
    "        \n",
    "        input = np.transpose(input, (0, 3, 1, 2))\n",
    "        \n",
    "        input = torch.FloatTensor(input).to(device, non_blocking=True)\n",
    "        assert self.model is not None\n",
    "        with torch.no_grad():\n",
    "            logits = self.model(input)\n",
    "        probabilities = F.softmax(logits, dim=1)\n",
    "        return probabilities.cpu().numpy()\n",
    "\n",
    "    def fit(self, _train_dl, info=False):\n",
    "        import sys\n",
    "        self.init_layers(N_CLASSES)\n",
    "\n",
    "        optimizer = torch.optim.Rprop(self.model.parameters(), lr=self.eta)\n",
    "\n",
    "        for e in range(self.epochs):\n",
    "            for data in _train_dl:\n",
    "                X, y = data[0].to(device), data[1].to(device)\n",
    "\n",
    "                optimizer.zero_grad()\n",
    "                net_out = self.model(X)\n",
    "                loss = self.loss_func(net_out, y)\n",
    "                loss.backward()\n",
    "                optimizer.step()\n",
    "                \n",
    "            if info:\n",
    "                with torch.no_grad():\n",
    "                    acc = accuracy_score(data[1].tolist(), np.argmax(self.model(X).cpu(), axis=1).tolist())\n",
    "                sys.stderr.write(f\"\\r{e+1:02d}/{self.epochs:02d} | Loss: {loss:<6.2f} | Tr Acc: {acc*100:3.2f}%\")\n",
    "                sys.stderr.flush()"
   ]
  },
  {
   "attachments": {},
   "cell_type": "markdown",
   "metadata": {},
   "source": [
    "We now create a cnn object to be able to run our CNN classifier."
   ]
  },
  {
   "cell_type": "code",
   "execution_count": 4,
   "metadata": {},
   "outputs": [
    {
     "name": "stdout",
     "output_type": "stream",
     "text": [
      "ImageClassifierCNN(\n",
      "  (loss_func): CrossEntropyLoss()\n",
      "  (model): Sequential(\n",
      "    (0): Conv2d(1, 16, kernel_size=(5, 5), stride=(1, 1))\n",
      "    (1): ReLU(inplace=True)\n",
      "    (2): MaxPool2d(kernel_size=2, stride=2, padding=0, dilation=1, ceil_mode=False)\n",
      "    (3): BatchNorm2d(16, eps=1e-05, momentum=0.1, affine=True, track_running_stats=True)\n",
      "    (4): Conv2d(16, 32, kernel_size=(5, 5), stride=(1, 1))\n",
      "    (5): ReLU(inplace=True)\n",
      "    (6): MaxPool2d(kernel_size=2, stride=2, padding=0, dilation=1, ceil_mode=False)\n",
      "    (7): Flatten(start_dim=1, end_dim=-1)\n",
      "    (8): Linear(in_features=512, out_features=1024, bias=True)\n",
      "    (9): BatchNorm1d(1024, eps=1e-05, momentum=0.1, affine=True, track_running_stats=True)\n",
      "    (10): Linear(in_features=1024, out_features=10, bias=True)\n",
      "  )\n",
      ")\n"
     ]
    }
   ],
   "source": [
    "cnn = ImageClassifierCNN(batch_size=BATCH_SIZE).to(device)\n",
    "cnn.init_layers(N_CLASSES)\n",
    "print(cnn)"
   ]
  },
  {
   "attachments": {},
   "cell_type": "markdown",
   "metadata": {},
   "source": [
    "Let's train the model on the MNIST `train_dl`."
   ]
  },
  {
   "cell_type": "code",
   "execution_count": 5,
   "metadata": {},
   "outputs": [
    {
     "name": "stderr",
     "output_type": "stream",
     "text": [
      "10/10 | Loss: 0.03   | Tr Acc: 99.16%"
     ]
    },
    {
     "name": "stdout",
     "output_type": "stream",
     "text": [
      "CPU times: total: 2.98 s\n",
      "Wall time: 25.2 s\n"
     ]
    }
   ],
   "source": [
    "%%time\n",
    "\n",
    "# Get the datasets\n",
    "train_dl, test_dl = get_dl_mnist(IMG_SIZE, BATCH_SIZE)\n",
    "\n",
    "cnn.fit(train_dl, info=True) "
   ]
  },
  {
   "attachments": {},
   "cell_type": "markdown",
   "metadata": {},
   "source": [
    "Now we move to work with the LIME framework."
   ]
  },
  {
   "cell_type": "code",
   "execution_count": 6,
   "metadata": {},
   "outputs": [],
   "source": [
    "# Ensure the model is in evaluation mode\n",
    "cnn.eval()\n",
    "\n",
    "# Initialize LimeImageExplainer\n",
    "explainer = lime_image.LimeImageExplainer()\n",
    "\n",
    "# Function to preprocess input image for the model\n",
    "def preprocess(image):\n",
    "    transform = transforms.Compose([transforms.ToTensor(),\n",
    "                                    transforms.Normalize((0.5,), (0.5,))])\n",
    "    return transform(image).unsqueeze(0)"
   ]
  },
  {
   "cell_type": "markdown",
   "metadata": {},
   "source": [
    "For the training, we used the data for the `train_dl`. The `test_dl` data is going to be used during the LIME operation below, as we look into an image that represents each of the 10 digits under question (0 - 9)."
   ]
  },
  {
   "cell_type": "markdown",
   "metadata": {},
   "source": [
    "Set up the model and helper functions to be able to use the LIME library."
   ]
  },
  {
   "cell_type": "code",
   "execution_count": 7,
   "metadata": {},
   "outputs": [
    {
     "data": {
      "application/vnd.jupyter.widget-view+json": {
       "model_id": "c2239d785ef648db8b652cb92dce26a9",
       "version_major": 2,
       "version_minor": 0
      },
      "text/plain": [
       "  0%|          | 0/1000 [00:00<?, ?it/s]"
      ]
     },
     "metadata": {},
     "output_type": "display_data"
    },
    {
     "name": "stderr",
     "output_type": "stream",
     "text": [
      "Clipping input data to the valid range for imshow with RGB data ([0..1] for floats or [0..255] for integers).\n"
     ]
    },
    {
     "data": {
      "image/png": "[encoded data removed]",
      "text/plain": [
       "<Figure size 800x400 with 2 Axes>"
      ]
     },
     "metadata": {},
     "output_type": "display_data"
    },
    {
     "data": {
      "application/vnd.jupyter.widget-view+json": {
       "model_id": "ed606dbaf6a64c059bf5978d44206229",
       "version_major": 2,
       "version_minor": 0
      },
      "text/plain": [
       "  0%|          | 0/1000 [00:00<?, ?it/s]"
      ]
     },
     "metadata": {},
     "output_type": "display_data"
    },
    {
     "name": "stderr",
     "output_type": "stream",
     "text": [
      "Clipping input data to the valid range for imshow with RGB data ([0..1] for floats or [0..255] for integers).\n"
     ]
    },
    {
     "data": {
      "image/png": "[encoded data removed]",
      "text/plain": [
       "<Figure size 800x400 with 2 Axes>"
      ]
     },
     "metadata": {},
     "output_type": "display_data"
    },
    {
     "data": {
      "application/vnd.jupyter.widget-view+json": {
       "model_id": "c089ce1e17ba4e1abe0b538bfeb70f45",
       "version_major": 2,
       "version_minor": 0
      },
      "text/plain": [
       "  0%|          | 0/1000 [00:00<?, ?it/s]"
      ]
     },
     "metadata": {},
     "output_type": "display_data"
    },
    {
     "name": "stderr",
     "output_type": "stream",
     "text": [
      "Clipping input data to the valid range for imshow with RGB data ([0..1] for floats or [0..255] for integers).\n"
     ]
    },
    {
     "data": {
      "image/png": "[encoded data removed]",
      "text/plain": [
       "<Figure size 800x400 with 2 Axes>"
      ]
     },
     "metadata": {},
     "output_type": "display_data"
    },
    {
     "data": {
      "application/vnd.jupyter.widget-view+json": {
       "model_id": "40f8f445596b4d81a6e6afe6ff5a7436",
       "version_major": 2,
       "version_minor": 0
      },
      "text/plain": [
       "  0%|          | 0/1000 [00:00<?, ?it/s]"
      ]
     },
     "metadata": {},
     "output_type": "display_data"
    },
    {
     "name": "stderr",
     "output_type": "stream",
     "text": [
      "Clipping input data to the valid range for imshow with RGB data ([0..1] for floats or [0..255] for integers).\n"
     ]
    },
    {
     "data": {
      "image/png": "[encoded data removed]",
      "text/plain": [
       "<Figure size 800x400 with 2 Axes>"
      ]
     },
     "metadata": {},
     "output_type": "display_data"
    },
    {
     "data": {
      "application/vnd.jupyter.widget-view+json": {
       "model_id": "fec26cd744384901ae509bc7dc89b1df",
       "version_major": 2,
       "version_minor": 0
      },
      "text/plain": [
       "  0%|          | 0/1000 [00:00<?, ?it/s]"
      ]
     },
     "metadata": {},
     "output_type": "display_data"
    },
    {
     "name": "stderr",
     "output_type": "stream",
     "text": [
      "Clipping input data to the valid range for imshow with RGB data ([0..1] for floats or [0..255] for integers).\n"
     ]
    },
    {
     "data": {
      "image/png": "[encoded data removed]",
      "text/plain": [
       "<Figure size 800x400 with 2 Axes>"
      ]
     },
     "metadata": {},
     "output_type": "display_data"
    },
    {
     "data": {
      "application/vnd.jupyter.widget-view+json": {
       "model_id": "0c5ccd2a2fee417ca92dff3c707201f5",
       "version_major": 2,
       "version_minor": 0
      },
      "text/plain": [
       "  0%|          | 0/1000 [00:00<?, ?it/s]"
      ]
     },
     "metadata": {},
     "output_type": "display_data"
    },
    {
     "name": "stderr",
     "output_type": "stream",
     "text": [
      "Clipping input data to the valid range for imshow with RGB data ([0..1] for floats or [0..255] for integers).\n"
     ]
    },
    {
     "data": {
      "image/png": "[encoded data removed]",
      "text/plain": [
       "<Figure size 800x400 with 2 Axes>"
      ]
     },
     "metadata": {},
     "output_type": "display_data"
    },
    {
     "data": {
      "application/vnd.jupyter.widget-view+json": {
       "model_id": "bec77b3c959f41ecb699a97f60730a44",
       "version_major": 2,
       "version_minor": 0
      },
      "text/plain": [
       "  0%|          | 0/1000 [00:00<?, ?it/s]"
      ]
     },
     "metadata": {},
     "output_type": "display_data"
    },
    {
     "name": "stderr",
     "output_type": "stream",
     "text": [
      "Clipping input data to the valid range for imshow with RGB data ([0..1] for floats or [0..255] for integers).\n"
     ]
    },
    {
     "data": {
      "image/png": "[encoded data removed]",
      "text/plain": [
       "<Figure size 800x400 with 2 Axes>"
      ]
     },
     "metadata": {},
     "output_type": "display_data"
    },
    {
     "data": {
      "application/vnd.jupyter.widget-view+json": {
       "model_id": "753359a7140d423d82db860dc38a0672",
       "version_major": 2,
       "version_minor": 0
      },
      "text/plain": [
       "  0%|          | 0/1000 [00:00<?, ?it/s]"
      ]
     },
     "metadata": {},
     "output_type": "display_data"
    },
    {
     "name": "stderr",
     "output_type": "stream",
     "text": [
      "Clipping input data to the valid range for imshow with RGB data ([0..1] for floats or [0..255] for integers).\n"
     ]
    },
    {
     "data": {
      "image/png": "[encoded data removed]",
      "text/plain": [
       "<Figure size 800x400 with 2 Axes>"
      ]
     },
     "metadata": {},
     "output_type": "display_data"
    },
    {
     "data": {
      "application/vnd.jupyter.widget-view+json": {
       "model_id": "dfd31f3fb2624f86af2edc5011375483",
       "version_major": 2,
       "version_minor": 0
      },
      "text/plain": [
       "  0%|          | 0/1000 [00:00<?, ?it/s]"
      ]
     },
     "metadata": {},
     "output_type": "display_data"
    },
    {
     "name": "stderr",
     "output_type": "stream",
     "text": [
      "Clipping input data to the valid range for imshow with RGB data ([0..1] for floats or [0..255] for integers).\n"
     ]
    },
    {
     "data": {
      "image/png": "[encoded data removed]",
      "text/plain": [
       "<Figure size 800x400 with 2 Axes>"
      ]
     },
     "metadata": {},
     "output_type": "display_data"
    },
    {
     "data": {
      "application/vnd.jupyter.widget-view+json": {
       "model_id": "132c0b6ba7b449b2ad3a3db05dfdd5ed",
       "version_major": 2,
       "version_minor": 0
      },
      "text/plain": [
       "  0%|          | 0/1000 [00:00<?, ?it/s]"
      ]
     },
     "metadata": {},
     "output_type": "display_data"
    },
    {
     "name": "stderr",
     "output_type": "stream",
     "text": [
      "Clipping input data to the valid range for imshow with RGB data ([0..1] for floats or [0..255] for integers).\n"
     ]
    },
    {
     "data": {
      "image/png": "[encoded data removed]",
      "text/plain": [
       "<Figure size 800x400 with 2 Axes>"
      ]
     },
     "metadata": {},
     "output_type": "display_data"
    }
   ],
   "source": [
    "# Initialize a dictionary to store one image for each digit\n",
    "digit_examples = {}\n",
    "\n",
    "# Iterate over the test data loader to collect one example for each digit\n",
    "for images, labels in test_dl:\n",
    "    labels_list = labels.tolist()\n",
    "    for i, label in enumerate(labels_list):\n",
    "        if label not in digit_examples:\n",
    "            # Detach the image tensor and convert to numpy array\n",
    "            digit_examples[label] = images[i].detach().numpy()\n",
    "            \n",
    "        # If we've collected all digits, break out of loop\n",
    "        if len(digit_examples) == 10:\n",
    "            break\n",
    "            \n",
    "    # If we've collected all digits, break out of loop\n",
    "    if len(digit_examples) == 10:\n",
    "        break\n",
    "\n",
    "# Create a SegmentationAlgorithm object with 'slic' algorithm\n",
    "segmentation_fn = SegmentationAlgorithm('slic', n_segments=100, compactness=1, sigma=1)\n",
    "\n",
    "# Now iterate through each digit and explain using LIME\n",
    "for digit in range(10):\n",
    "    # Retrieve the selected image of the digit from the dictionary\n",
    "    image = np.squeeze(digit_examples[digit])\n",
    "\n",
    "    # Get explanation from LIME\n",
    "    explanation = explainer.explain_instance(image, \n",
    "                                             cnn.predict, \n",
    "                                             top_labels=5, \n",
    "                                             hide_color=0, \n",
    "                                             num_samples=1000,\n",
    "                                             segmentation_fn=segmentation_fn)\n",
    "  \n",
    "    # Get image and mask for the explanation of the digit\n",
    "    temp, mask = explanation.get_image_and_mask(explanation.top_labels[0], \n",
    "                                                positive_only=True, \n",
    "                                                num_features=5, \n",
    "                                                hide_rest=False)\n",
    "    \n",
    "    # Plot the image and the explanation\n",
    "    plt.figure(figsize=(8, 4))\n",
    "    plt.subplot(1, 2, 1)\n",
    "    plt.imshow(image, cmap='gray')\n",
    "    plt.title(f'Original Image: {digit}')\n",
    "    plt.axis('off')\n",
    "\n",
    "    plt.subplot(1, 2, 2)\n",
    "    plt.imshow(mark_boundaries(temp, mask))\n",
    "    plt.title(f'LIME Explanation for {digit}')\n",
    "    plt.axis('off')\n",
    "\n",
    "    plt.show()"
   ]
  },
  {
   "attachments": {},
   "cell_type": "markdown",
   "metadata": {},
   "source": [
    "Let's try to answer the question: \"Are there any specific patterns discriminating certain digits?\"\n",
    "\n",
    "The yellow portion of the images in the LIME output represent the \"explanation\" of what parts of the image were most influential in the model's decision to classify the digits. \n",
    "\n",
    "General Patterns Across All Digits\n",
    "\n",
    "- Loops and Curves: For digits like \"0,\" \"6,\" and \"8,\" the model appears to focus on the loops or curves. These are features that are not present in other digits and are therefore strong discriminative features.\n",
    "- Straight Lines and Angles: For digits like \"1,\" \"4,\" and \"7,\" the model pays attention to straight lines and angles. These are unique features for these digits and help distinguish them from others.\n",
    "- Endpoints and Joints: For digits like \"2,\" \"3,\" and \"5,\" the model seems to concentrate on the endpoints and joints where curves meet straight lines. This helps in distinguishing these digits from others that either have simple curves or straight lines.\n",
    "- Unique Shapes: For digits like \"9,\" the model focuses on both the loop and the straight line, capturing its unique shape.\n",
    "- Color Intensity: The color intensity in the highlighted regions varies across digits. Brighter regions may indicate a stronger influence on the model's decision for that specific digit."
   ]
  }
 ],
 "metadata": {
  "kernelspec": {
   "display_name": "Python 3",
   "language": "python",
   "name": "python3"
  },
  "language_info": {
   "codemirror_mode": {
    "name": "ipython",
    "version": 3
   },
   "file_extension": ".py",
   "mimetype": "text/x-python",
   "name": "python",
   "nbconvert_exporter": "python",
   "pygments_lexer": "ipython3",
   "version": "3.10.10"
  }
 },
 "nbformat": 4,
 "nbformat_minor": 2
}
